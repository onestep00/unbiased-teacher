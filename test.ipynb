{
 "cells": [
  {
   "cell_type": "code",
   "execution_count": null,
   "source": [
    "install command\n",
    "\n",
    "pip3 install torch==1.9.0+cu111 torchvision==0.10.0+cu111 torchaudio===0.9.0 -f https://download.pytorch.org/whl/torch_stable.html\n",
    "\n",
    "python -m pip install detectron2 -f \\\n",
    "  https://dl.fbaipublicfiles.com/detectron2/wheels/cu111/torch1.9/index.html\n",
    "\n",
    "pip install opencv-contrib-python-headless\n"
   ],
   "outputs": [],
   "metadata": {}
  },
  {
   "cell_type": "code",
   "execution_count": null,
   "source": [
    "import json\n",
    "import cv2\n",
    "from tqdm import tqdm\n",
    "import os\n",
    "from pqdm.processes import pqdm\n",
    "\n",
    "train = None\n",
    "test = None\n",
    "\n",
    "def rewrite(l):\n",
    "    fname, ext = os.path.splitext(l)\n",
    "    img_path = '/home/jovyan/data/filtered-food/'+l\n",
    "    new_path = '/home/jovyan/data/filtered-food-jpg/'+fname+'.jpg'\n",
    "    try:\n",
    "        img = cv2.imread(img_path, cv2.IMREAD_COLOR)\n",
    "        # img = cv2.cvtColor(img, cv2.COLOR_BGR2RGB)\n",
    "        cv2.imwrite(new_path, img)\n",
    "    except:\n",
    "        print(img_path)\n",
    "\n",
    "\n",
    "\n",
    "train = !ls /home/jovyan/data/filtered-food\n",
    "\n",
    "print('start filtered-image image rewrite')\n",
    "_ = pqdm(train, rewrite, n_jobs=50)\n",
    "\n"
   ],
   "outputs": [],
   "metadata": {}
  },
  {
   "cell_type": "code",
   "execution_count": 1,
   "source": [
    "temp = !ls /home/jovyan/data/filtered-food"
   ],
   "outputs": [],
   "metadata": {}
  },
  {
   "cell_type": "code",
   "execution_count": 2,
   "source": [],
   "outputs": [
    {
     "output_type": "execute_result",
     "data": {
      "text/plain": [
       "'00000853-b7e3-480a-b8ca-09d7f2b683d5.jpg'"
      ]
     },
     "metadata": {},
     "execution_count": 2
    }
   ],
   "metadata": {}
  },
  {
   "cell_type": "code",
   "execution_count": 42,
   "source": [
    "import json\n",
    "\n",
    "all_images = !ls /home/jovyan/data/filtered-food-jpg\n",
    "\n",
    "with open('/home/jovyan/workspace/ml_mg/json_data/163train.json', 'r') as f:\n",
    "    # print(train[0])\n",
    "    l_all = \"\"\n",
    "    for l in f.readlines():\n",
    "        l_all += l.strip()\n",
    "    train = json.loads(l_all)\n",
    "\n",
    "with open('/home/jovyan/workspace/ml_mg/json_data/163test.json', 'r') as f:\n",
    "    # print(train[0])\n",
    "    l_all = \"\"\n",
    "    for l in f.readlines():\n",
    "        l_all += l.strip()\n",
    "    test = json.loads(l_all)\n",
    "\n",
    "with open('/home/jovyan/workspace/ml_mg/json_data/163val.json', 'r') as f:\n",
    "    # print(train[0])\n",
    "    l_all = \"\"\n",
    "    for l in f.readlines():\n",
    "        l_all += l.strip()\n",
    "    val = json.loads(l_all)"
   ],
   "outputs": [],
   "metadata": {}
  },
  {
   "cell_type": "code",
   "execution_count": 28,
   "source": [
    "len(train['images']) + len(test['images']) + len(val['images'])"
   ],
   "outputs": [
    {
     "output_type": "execute_result",
     "data": {
      "text/plain": [
       "30061"
      ]
     },
     "metadata": {},
     "execution_count": 28
    }
   ],
   "metadata": {}
  },
  {
   "cell_type": "code",
   "execution_count": 52,
   "source": [
    "import numpy as np\n",
    "\n",
    "diff_images_names = list(set(all_images) - set(i['file_name'] for i in train['images']) - set([i['file_name'] for i in test['images']])  - set([i['file_name'] for i in val['images']]))\n",
    "print(len(diff_images_names))"
   ],
   "outputs": [
    {
     "output_type": "stream",
     "name": "stdout",
     "text": [
      "72491\n"
     ]
    }
   ],
   "metadata": {}
  },
  {
   "cell_type": "code",
   "execution_count": null,
   "source": [
    "temp_train_image = train['images']\n",
    "temp_train_image.sort(key=lambda x : x['id'])\n",
    "\n",
    "for i, img in enumerate(temp_train_image):\n",
    "    if str(img['id']) != str(i):\n",
    "        print(i, img)"
   ],
   "outputs": [],
   "metadata": {}
  },
  {
   "cell_type": "code",
   "execution_count": 20,
   "source": [
    "print(len([i['id'] for i in train['images']]))\n",
    "print()"
   ],
   "outputs": [
    {
     "output_type": "execute_result",
     "data": {
      "text/plain": [
       "24048"
      ]
     },
     "metadata": {},
     "execution_count": 20
    }
   ],
   "metadata": {}
  },
  {
   "cell_type": "code",
   "execution_count": 53,
   "source": [
    "\n",
    "import os\n",
    "from pqdm.processes import pqdm\n",
    "import cv2\n",
    "\n",
    "diff_images = []\n",
    "\n",
    "def get_size(l):\n",
    "    img_path = '/home/jovyan/data/filtered-food-jpg/'+l\n",
    "    try:\n",
    "        img = cv2.imread(img_path, cv2.IMREAD_COLOR)\n",
    "        height, width, _ = img.shape\n",
    "        return {\n",
    "            'file_name': l,\n",
    "            'height': height,\n",
    "            'width': width\n",
    "        }\n",
    "    except:\n",
    "        print(img_path)\n",
    "\n",
    "print('start filtered-image image rewrite')\n",
    "diff_images = pqdm(diff_images_names, get_size, n_jobs=50)\n"
   ],
   "outputs": [
    {
     "output_type": "stream",
     "name": "stdout",
     "text": [
      "start filtered-image image rewrite\n"
     ]
    },
    {
     "output_type": "stream",
     "name": "stderr",
     "text": [
      "SUBMITTING | : 100%|██████████| 72491/72491 [00:05<00:00, 13479.62it/s]\n",
      "PROCESSING | : 100%|██████████| 72491/72491 [05:11<00:00, 232.76it/s]\n",
      "COLLECTING | : 100%|██████████| 72491/72491 [00:00<00:00, 477648.86it/s]\n"
     ]
    }
   ],
   "metadata": {}
  },
  {
   "cell_type": "code",
   "execution_count": 37,
   "source": [
    "print(sum([1 if x[\"id\"] == 30061 else 0 for x in train[\"images\"]]))\n",
    "print(sum([1 if x[\"id\"] == 30061 else 0 for x in test[\"images\"]]))\n",
    "print(sum([1 if x[\"id\"] == 30061 else 0 for x in val[\"images\"]]))"
   ],
   "outputs": [
    {
     "output_type": "stream",
     "name": "stdout",
     "text": [
      "0\n",
      "0\n",
      "0\n"
     ]
    }
   ],
   "metadata": {}
  },
  {
   "cell_type": "code",
   "execution_count": 51,
   "source": [
    "print(train.keys())\n",
    "print(train['licenses'])\n",
    "print(len(diff_images))"
   ],
   "outputs": [
    {
     "output_type": "stream",
     "name": "stdout",
     "text": [
      "dict_keys(['annotations', 'categories', 'images', 'info', 'licenses'])\n",
      "None\n",
      "96539\n"
     ]
    }
   ],
   "metadata": {}
  },
  {
   "cell_type": "code",
   "execution_count": 83,
   "source": [
    "from tqdm import tqdm\n",
    "\n",
    "save_train = {'annotations':[], 'categories':train['categories'], 'images':[], 'info':train['info'], 'licenses':train['licenses']}\n",
    "\n",
    "for i, img in tqdm(enumerate(diff_images)):\n",
    "\timg[\"id\"] = 30061 + i\n",
    "\ttemp_anno = {\n",
    "\t\t'area': 100,\n",
    "\t\t'bbox': [0, 0, 10, 10],\n",
    "\t\t'category_id': 2,\n",
    "\t\t'id': 200000+i,\n",
    "\t\t# 'ignore': 0,\n",
    "\t\t'image_id': 30061+i,\n",
    "\t\t'iscrowd': 0,\n",
    "\t\t# 'segmentation': [] \n",
    "\t\t}\n",
    "\tsave_train['images'].append(img)\n",
    "\tsave_train['annotations'].append(temp_anno)"
   ],
   "outputs": [
    {
     "output_type": "stream",
     "name": "stderr",
     "text": [
      "72491it [00:00, 445110.64it/s]\n"
     ]
    }
   ],
   "metadata": {}
  },
  {
   "cell_type": "code",
   "execution_count": null,
   "source": [
    "python train_net.py --num-gpus 1 --config configs/custom/faster_rcnn_R_50_FPN_food.yaml  SOLVER.IMG_PER_BATCH_LABEL 8 SOLVER.IMG_PER_BATCH_UNLABEL 8"
   ],
   "outputs": [],
   "metadata": {}
  },
  {
   "cell_type": "code",
   "execution_count": 84,
   "source": [
    "import json\n",
    "\n",
    "with open('/home/jovyan/workspace/ml_mg/json_data/163train_unlabel.json', 'w') as f:\n",
    "\n",
    "\n",
    "    json.dump(save_train, f)"
   ],
   "outputs": [],
   "metadata": {}
  },
  {
   "cell_type": "code",
   "execution_count": 87,
   "source": [
    "import json\n",
    "\n",
    "for x in train['annotations']:\n",
    "    x['bbox'] = [float(f) for f in x['bbox']]\n",
    "    # del x['segmentation']\n",
    "    # del x['ignore']\n",
    "\n",
    "with open('/home/jovyan/workspace/ml_mg/json_data/163train2.json', 'w') as f:\n",
    "    json.dump(train, f)"
   ],
   "outputs": [],
   "metadata": {}
  },
  {
   "cell_type": "code",
   "execution_count": null,
   "source": [
    "python train_net.py --num-gpus 1 --config configs/custom/faster_rcnn_R_50_FPN_food.yaml  SOLVER.IMG_PER_BATCH_LABEL 8 SOLVER.IMG_PER_BATCH_UNLABEL 8"
   ],
   "outputs": [],
   "metadata": {}
  },
  {
   "cell_type": "code",
   "execution_count": 69,
   "source": [
    "val[\"annotations\"][len(val[\"annotations\"])-1]"
   ],
   "outputs": [
    {
     "output_type": "execute_result",
     "data": {
      "text/plain": [
       "{'area': 4224832,\n",
       " 'bbox': [328, 440, 2104, 2008],\n",
       " 'category_id': 162,\n",
       " 'id': 149011,\n",
       " 'ignore': 0,\n",
       " 'image_id': 30049,\n",
       " 'iscrowd': 0,\n",
       " 'segmentation': []}"
      ]
     },
     "metadata": {},
     "execution_count": 69
    }
   ],
   "metadata": {}
  },
  {
   "cell_type": "code",
   "execution_count": 88,
   "source": [
    "import json\n",
    "\n",
    "with open('/home/jovyan/workspace/ml_mg/json_data/163train.json', 'r') as f:\n",
    "    # print(train[0])\n",
    "    l_all = \"\"\n",
    "    for l in f.readlines():\n",
    "        l_all += l.strip()\n",
    "    t1 = json.loads(l_all)\n",
    "\n",
    "with open('/home/jovyan/workspace/ml_mg/json_data/163train_unlabel.json', 'r') as f:\n",
    "    # print(train[0])\n",
    "    l_all = \"\"\n",
    "    for l in f.readlines():\n",
    "        l_all += l.strip()\n",
    "    t2 = json.loads(l_all)\n"
   ],
   "outputs": [],
   "metadata": {}
  },
  {
   "cell_type": "code",
   "execution_count": 79,
   "source": [
    "from tqdm import tqdm\n",
    "\n",
    "t1_image_id = [x['image_id'] for x in t1['annotations']]\n",
    "print(t1_image_id)\n",
    "for x in tqdm(t1['images']):\n",
    "    if x['id'] not in t1_image_id:\n",
    "        print(x)\n",
    "\n",
    "t2_image_id = [x['image_id'] for x in t2['annotations']]\n",
    "for x in tqdm(t2['images']):\n",
    "    if x['id'] not in t2_image_id:\n",
    "        print(x)"
   ],
   "outputs": [
    {
     "output_type": "stream",
     "name": "stderr",
     "text": [
      "100%|██████████| 24048/24048 [00:56<00:00, 422.51it/s]\n",
      "100%|██████████| 72491/72491 [00:35<00:00, 2047.15it/s]\n"
     ]
    }
   ],
   "metadata": {}
  }
 ],
 "metadata": {
  "orig_nbformat": 4,
  "language_info": {
   "name": "python",
   "version": "3.8.10",
   "mimetype": "text/x-python",
   "codemirror_mode": {
    "name": "ipython",
    "version": 3
   },
   "pygments_lexer": "ipython3",
   "nbconvert_exporter": "python",
   "file_extension": ".py"
  },
  "kernelspec": {
   "name": "python3",
   "display_name": "Python 3.8.10 64-bit ('detectron2': conda)"
  },
  "interpreter": {
   "hash": "3064c5b0e065a3649a651c75ad24c571ce63e64c9242a0d4c739f8f09efacd14"
  }
 },
 "nbformat": 4,
 "nbformat_minor": 2
}